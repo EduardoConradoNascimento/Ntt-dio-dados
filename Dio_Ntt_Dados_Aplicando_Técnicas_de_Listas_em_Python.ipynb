{
  "nbformat": 4,
  "nbformat_minor": 0,
  "metadata": {
    "colab": {
      "provenance": []
    },
    "kernelspec": {
      "name": "python3",
      "display_name": "Python 3"
    },
    "language_info": {
      "name": "python"
    }
  },
  "cells": [
    {
      "cell_type": "code",
      "execution_count": 29,
      "metadata": {
        "colab": {
          "base_uri": "https://localhost:8080/"
        },
        "id": "kjuYPkFJvfed",
        "outputId": "c7d08abd-fde1-4369-d7f5-fb5ac4a74069"
      },
      "outputs": [
        {
          "output_type": "stream",
          "name": "stdout",
          "text": [
            "120, 150, 170, 130, 200, 250, 180, 220, 210, 160, 140, 190\t\n",
            "<class 'list'>\n",
            "2120, 176.67\n"
          ]
        }
      ],
      "source": [
        "def analise_vendas(vendas):\n",
        "    # TODO: Calcule o total de vendas e realize a média mensal:\n",
        "    total_vendas = sum(vendas)\n",
        "    media_vendas = sum(vendas)/12\n",
        "    return f\"{total_vendas}, {media_vendas:.2f}\"\n",
        "\n",
        "def obter_entrada_vendas():\n",
        "    # Solicita a entrada do usuário em uma única linha\n",
        "    entrada = input()\n",
        "    # TODO: Converta a entrada em uma lista de inteiros:\n",
        "    split_entrada = entrada.split(\", \")\n",
        "    vendas = list(map(int,split_entrada))\n",
        "    print(type(vendas))\n",
        "    return vendas\n",
        "\n",
        "vendas = obter_entrada_vendas()\n",
        "print(analise_vendas(vendas))"
      ]
    },
    {
      "cell_type": "code",
      "source": [
        "def produto_mais_vendido(produtos):\n",
        "    contagem = {}\n",
        "\n",
        "    for produto in produtos:\n",
        "        if produto in contagem:\n",
        "            contagem[produto] += 1\n",
        "        else:\n",
        "            contagem[produto] = 1\n",
        "\n",
        "    max_produto = None\n",
        "    max_count = 0\n",
        "\n",
        "    for produto, count in contagem.items():\n",
        "        if count > max_count:\n",
        "            max_count = count\n",
        "            max_produto = produto\n",
        "\n",
        "    return max_produto\n",
        "\n",
        "def obter_entrada_produtos():\n",
        "    # Solicita a entrada do usuário em uma única linha\n",
        "    entrada = input()\n",
        "    # TODO: Converta a entrada em uma lista de strings, removendo espaços extras:\n",
        "    produtos = entrada.split(\", \")\n",
        "    print(produtos)\n",
        "    return produtos\n",
        "\n",
        "produtos = obter_entrada_produtos()\n",
        "print(produto_mais_vendido(produtos))"
      ],
      "metadata": {
        "colab": {
          "base_uri": "https://localhost:8080/"
        },
        "id": "bqIN-xrf143Z",
        "outputId": "315d7dbc-e204-476a-bfdc-47b076f2765d"
      },
      "execution_count": 41,
      "outputs": [
        {
          "output_type": "stream",
          "name": "stdout",
          "text": [
            "Notebook, Mouse, Teclado, Mouse, Monitor, Mouse, Teclado\t\n",
            "['Notebook', 'Mouse', 'Teclado', 'Mouse', 'Monitor', 'Mouse', 'Teclado\\t']\n",
            "Mouse\n"
          ]
        }
      ]
    },
    {
      "cell_type": "code",
      "source": [],
      "metadata": {
        "id": "ckm03rMn3-JD"
      },
      "execution_count": null,
      "outputs": []
    }
  ]
}